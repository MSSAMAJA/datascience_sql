{
  "nbformat": 4,
  "nbformat_minor": 0,
  "metadata": {
    "colab": {
      "provenance": [],
      "authorship_tag": "ABX9TyN34OQD19yRgAi86IYEmh6i",
      "include_colab_link": true
    },
    "kernelspec": {
      "name": "python3",
      "display_name": "Python 3"
    },
    "language_info": {
      "name": "python"
    }
  },
  "cells": [
    {
      "cell_type": "markdown",
      "metadata": {
        "id": "view-in-github",
        "colab_type": "text"
      },
      "source": [
        "<a href=\"https://colab.research.google.com/github/MSSAMAJA/datascience_sql/blob/main/Datascience_sql.ipynb\" target=\"_parent\"><img src=\"https://colab.research.google.com/assets/colab-badge.svg\" alt=\"Open In Colab\"/></a>"
      ]
    },
    {
      "cell_type": "code",
      "execution_count": 64,
      "metadata": {
        "colab": {
          "base_uri": "https://localhost:8080/"
        },
        "id": "aYKugHvyjhr4",
        "outputId": "b4e6f36e-a6f6-4f40-d45d-8710a4ad9473"
      },
      "outputs": [
        {
          "output_type": "stream",
          "name": "stdout",
          "text": [
            "The sql extension is already loaded. To reload it, use:\n",
            "  %reload_ext sql\n"
          ]
        }
      ],
      "source": [
        "# Set-up\n",
        "%load_ext sql\n",
        "%sql sqlite://\n",
        "import pandas as pd"
      ]
    },
    {
      "cell_type": "code",
      "source": [
        "%%sql\n",
        "CREATE TABLE Customers (\n",
        "    CustomerID INT PRIMARY KEY,\n",
        "    CustomerName VARCHAR(255)\n",
        ");\n",
        "\n",
        "INSERT INTO Customers (CustomerID, CustomerName) VALUES\n",
        "(1, 'Alice'),\n",
        "(2, 'Bob'),\n",
        "(3, 'Charlie'),\n",
        "(4, 'David');"
      ],
      "metadata": {
        "colab": {
          "base_uri": "https://localhost:8080/"
        },
        "id": "BSEPMJPXjq94",
        "outputId": "b8a03279-66ff-439e-c2c7-f98259202757"
      },
      "execution_count": 65,
      "outputs": [
        {
          "output_type": "stream",
          "name": "stdout",
          "text": [
            " * sqlite://\n",
            "(sqlite3.OperationalError) table Customers already exists\n",
            "[SQL: CREATE TABLE Customers (\n",
            "    CustomerID INT PRIMARY KEY,\n",
            "    CustomerName VARCHAR(255)\n",
            ");]\n",
            "(Background on this error at: https://sqlalche.me/e/20/e3q8)\n"
          ]
        }
      ]
    },
    {
      "cell_type": "code",
      "source": [
        "%%sql\n",
        "CREATE TABLE Orders (\n",
        "    OrderID INT PRIMARY KEY,\n",
        "    CustomerID INT,\n",
        "    OrderDate DATE,\n",
        "    FOREIGN KEY (CustomerID) REFERENCES Customers(CustomerID)\n",
        ");\n",
        "\n",
        "INSERT INTO Orders (OrderID, CustomerID, OrderDate) VALUES\n",
        "(101, 1, '2024-10-01'),\n",
        "(102, 1, '2024-10-03'),\n",
        "(103, 2, '2024-10-05');"
      ],
      "metadata": {
        "colab": {
          "base_uri": "https://localhost:8080/"
        },
        "id": "1S3CD1LHkYOq",
        "outputId": "67c9902d-04cc-4880-c53b-e1b1e281680a"
      },
      "execution_count": 66,
      "outputs": [
        {
          "output_type": "stream",
          "name": "stdout",
          "text": [
            " * sqlite://\n",
            "(sqlite3.OperationalError) table Orders already exists\n",
            "[SQL: CREATE TABLE Orders (\n",
            "    OrderID INT PRIMARY KEY,\n",
            "    CustomerID INT,\n",
            "    OrderDate DATE,\n",
            "    FOREIGN KEY (CustomerID) REFERENCES Customers(CustomerID)\n",
            ");]\n",
            "(Background on this error at: https://sqlalche.me/e/20/e3q8)\n"
          ]
        }
      ]
    },
    {
      "cell_type": "code",
      "source": [
        "#innerjoin\n",
        "%%sql\n",
        "select Customers.CustomerID,Orders.OrderID\n",
        "from Customers\n",
        "INNER JOIN Orders ON Customers.CustomerID==Orders.OrderID;\n"
      ],
      "metadata": {
        "colab": {
          "base_uri": "https://localhost:8080/",
          "height": 74
        },
        "id": "wV68S-2BjrAr",
        "outputId": "b742f152-9b97-45e4-e597-3236128cb4f4"
      },
      "execution_count": 67,
      "outputs": [
        {
          "output_type": "stream",
          "name": "stdout",
          "text": [
            " * sqlite://\n",
            "Done.\n"
          ]
        },
        {
          "output_type": "execute_result",
          "data": {
            "text/plain": [
              "[]"
            ],
            "text/html": [
              "<table>\n",
              "    <thead>\n",
              "        <tr>\n",
              "            <th>CustomerID</th>\n",
              "            <th>OrderID</th>\n",
              "        </tr>\n",
              "    </thead>\n",
              "    <tbody>\n",
              "    </tbody>\n",
              "</table>"
            ]
          },
          "metadata": {},
          "execution_count": 67
        }
      ]
    },
    {
      "cell_type": "code",
      "source": [
        "#left join\n",
        "%%sql\n",
        "SELECT\n",
        "    Customers.CustomerID,\n",
        "    Customers.CustomerName,\n",
        "    Orders.OrderID,\n",
        "    Orders.OrderDate\n",
        "FROM\n",
        "    Customers\n",
        "LEFT JOIN\n",
        "    Orders ON Customers.CustomerID = Orders.CustomerID;"
      ],
      "metadata": {
        "colab": {
          "base_uri": "https://localhost:8080/",
          "height": 177
        },
        "id": "LWLReJkOjrD7",
        "outputId": "0bda2f31-401d-4bdb-cafb-7186a2c014e7"
      },
      "execution_count": 68,
      "outputs": [
        {
          "output_type": "stream",
          "name": "stdout",
          "text": [
            " * sqlite://\n",
            "Done.\n"
          ]
        },
        {
          "output_type": "execute_result",
          "data": {
            "text/plain": [
              "[(1, 'Alice', 101, '2024-10-01'),\n",
              " (1, 'Alice', 102, '2024-10-03'),\n",
              " (2, 'Bob', 103, '2024-10-05'),\n",
              " (3, 'Charlie', None, None),\n",
              " (4, 'David', None, None)]"
            ],
            "text/html": [
              "<table>\n",
              "    <thead>\n",
              "        <tr>\n",
              "            <th>CustomerID</th>\n",
              "            <th>CustomerName</th>\n",
              "            <th>OrderID</th>\n",
              "            <th>OrderDate</th>\n",
              "        </tr>\n",
              "    </thead>\n",
              "    <tbody>\n",
              "        <tr>\n",
              "            <td>1</td>\n",
              "            <td>Alice</td>\n",
              "            <td>101</td>\n",
              "            <td>2024-10-01</td>\n",
              "        </tr>\n",
              "        <tr>\n",
              "            <td>1</td>\n",
              "            <td>Alice</td>\n",
              "            <td>102</td>\n",
              "            <td>2024-10-03</td>\n",
              "        </tr>\n",
              "        <tr>\n",
              "            <td>2</td>\n",
              "            <td>Bob</td>\n",
              "            <td>103</td>\n",
              "            <td>2024-10-05</td>\n",
              "        </tr>\n",
              "        <tr>\n",
              "            <td>3</td>\n",
              "            <td>Charlie</td>\n",
              "            <td>None</td>\n",
              "            <td>None</td>\n",
              "        </tr>\n",
              "        <tr>\n",
              "            <td>4</td>\n",
              "            <td>David</td>\n",
              "            <td>None</td>\n",
              "            <td>None</td>\n",
              "        </tr>\n",
              "    </tbody>\n",
              "</table>"
            ]
          },
          "metadata": {},
          "execution_count": 68
        }
      ]
    },
    {
      "cell_type": "code",
      "source": [
        "%%sql\n",
        "SELECT\n",
        "    Customers.CustomerID,\n",
        "    Customers.CustomerName,\n",
        "    Orders.OrderID,\n",
        "    Orders.OrderDate\n",
        "FROM\n",
        "    Customers\n",
        "FULL JOIN\n",
        "    Orders ON Customers.CustomerID = Orders.CustomerID;"
      ],
      "metadata": {
        "colab": {
          "base_uri": "https://localhost:8080/"
        },
        "id": "ycZ_FOKIjrG6",
        "outputId": "c4f52809-8736-4755-e91e-a04b77e6b20a"
      },
      "execution_count": 69,
      "outputs": [
        {
          "output_type": "stream",
          "name": "stdout",
          "text": [
            " * sqlite://\n",
            "(sqlite3.OperationalError) RIGHT and FULL OUTER JOINs are not currently supported\n",
            "[SQL: SELECT\n",
            "    Customers.CustomerID,\n",
            "    Customers.CustomerName,\n",
            "    Orders.OrderID,\n",
            "    Orders.OrderDate\n",
            "FROM\n",
            "    Customers\n",
            "FULL JOIN\n",
            "    Orders ON Customers.CustomerID = Orders.CustomerID;]\n",
            "(Background on this error at: https://sqlalche.me/e/20/e3q8)\n"
          ]
        }
      ]
    },
    {
      "cell_type": "code",
      "source": [
        "%%sql\n",
        "CREATE TABLE Sales (\n",
        "    SaleID INT PRIMARY KEY,\n",
        "    Category VARCHAR(255),\n",
        "    Amount DECIMAL(10, 2)\n",
        ");\n",
        "\n",
        "INSERT INTO Sales (SaleID, Category, Amount) VALUES\n",
        "(1, 'Electronics', 1500.00),\n",
        "(2, 'Clothing', 250.50),\n",
        "(3, 'Electronics', 700.00),\n",
        "(4, 'Clothing', 350.75),\n",
        "(5, 'Home', 600.00),\n",
        "(6, 'Electronics', 1250.00);\n"
      ],
      "metadata": {
        "colab": {
          "base_uri": "https://localhost:8080/"
        },
        "id": "0UmAL_QVjrJN",
        "outputId": "41d301d0-0147-4f20-a241-724efe661201"
      },
      "execution_count": 70,
      "outputs": [
        {
          "output_type": "stream",
          "name": "stdout",
          "text": [
            " * sqlite://\n",
            "Done.\n",
            "6 rows affected.\n"
          ]
        },
        {
          "output_type": "execute_result",
          "data": {
            "text/plain": [
              "[]"
            ]
          },
          "metadata": {},
          "execution_count": 70
        }
      ]
    },
    {
      "cell_type": "code",
      "source": [
        "#Write a query to find the average sales per category from a sales table."
      ],
      "metadata": {
        "id": "ZBsi8pOLjrMe"
      },
      "execution_count": 71,
      "outputs": []
    },
    {
      "cell_type": "code",
      "source": [
        "%%sql\n",
        "select SaleID,Category,Amount,AVG(Amount) AS avg_sales\n",
        "from Sales\n",
        "group by Category\n"
      ],
      "metadata": {
        "colab": {
          "base_uri": "https://localhost:8080/",
          "height": 136
        },
        "id": "bV36UuJal6Ir",
        "outputId": "9c647adb-2292-405e-abf3-2ad45442f75a"
      },
      "execution_count": 72,
      "outputs": [
        {
          "output_type": "stream",
          "name": "stdout",
          "text": [
            " * sqlite://\n",
            "Done.\n"
          ]
        },
        {
          "output_type": "execute_result",
          "data": {
            "text/plain": [
              "[(2, 'Clothing', 250.5, 300.625),\n",
              " (1, 'Electronics', 1500, 1150.0),\n",
              " (5, 'Home', 600, 600.0)]"
            ],
            "text/html": [
              "<table>\n",
              "    <thead>\n",
              "        <tr>\n",
              "            <th>SaleID</th>\n",
              "            <th>Category</th>\n",
              "            <th>Amount</th>\n",
              "            <th>avg_sales</th>\n",
              "        </tr>\n",
              "    </thead>\n",
              "    <tbody>\n",
              "        <tr>\n",
              "            <td>2</td>\n",
              "            <td>Clothing</td>\n",
              "            <td>250.5</td>\n",
              "            <td>300.625</td>\n",
              "        </tr>\n",
              "        <tr>\n",
              "            <td>1</td>\n",
              "            <td>Electronics</td>\n",
              "            <td>1500</td>\n",
              "            <td>1150.0</td>\n",
              "        </tr>\n",
              "        <tr>\n",
              "            <td>5</td>\n",
              "            <td>Home</td>\n",
              "            <td>600</td>\n",
              "            <td>600.0</td>\n",
              "        </tr>\n",
              "    </tbody>\n",
              "</table>"
            ]
          },
          "metadata": {},
          "execution_count": 72
        }
      ]
    },
    {
      "cell_type": "code",
      "source": [
        "%%sql\n",
        "DROP TABLE Sales;"
      ],
      "metadata": {
        "colab": {
          "base_uri": "https://localhost:8080/"
        },
        "id": "cIJoRlTdxhk9",
        "outputId": "5a78b65b-e590-4bc0-b998-da532aa6e1b5"
      },
      "execution_count": 73,
      "outputs": [
        {
          "output_type": "stream",
          "name": "stdout",
          "text": [
            " * sqlite://\n",
            "Done.\n"
          ]
        },
        {
          "output_type": "execute_result",
          "data": {
            "text/plain": [
              "[]"
            ]
          },
          "metadata": {},
          "execution_count": 73
        }
      ]
    },
    {
      "cell_type": "code",
      "source": [
        "%%sql\n",
        "CREATE TABLE Employees (\n",
        "    EmployeeID INT PRIMARY KEY,\n",
        "    Name VARCHAR(100),\n",
        "    Department VARCHAR(50),\n",
        "    Salary DECIMAL(10, 2),\n",
        "    HireDate DATE\n",
        ");\n",
        "\n",
        "INSERT INTO Employees (EmployeeID, Name, Department, Salary, HireDate) VALUES\n",
        "(1, 'Alice', 'HR', 60000, '2021-05-10'),\n",
        "(2, 'Bob', 'Engineering', 80000, '2019-11-20'),\n",
        "(3, 'Charlie', 'HR', 65000, '2020-07-15'),\n",
        "(4, 'David', 'Marketing', 55000, '2023-01-05'),\n",
        "(5, 'Eva', 'Engineering', 90000, '2018-03-22'),\n",
        "(6, 'Frank', 'Marketing', 75000, '2022-08-10');"
      ],
      "metadata": {
        "colab": {
          "base_uri": "https://localhost:8080/"
        },
        "id": "-tqk2YvAqznY",
        "outputId": "83ae6b41-3316-4bee-d5d6-83e48683ba5b"
      },
      "execution_count": 74,
      "outputs": [
        {
          "output_type": "stream",
          "name": "stdout",
          "text": [
            " * sqlite://\n",
            "(sqlite3.OperationalError) table Employees already exists\n",
            "[SQL: CREATE TABLE Employees (\n",
            "    EmployeeID INT PRIMARY KEY,\n",
            "    Name VARCHAR(100),\n",
            "    Department VARCHAR(50),\n",
            "    Salary DECIMAL(10, 2),\n",
            "    HireDate DATE\n",
            ");]\n",
            "(Background on this error at: https://sqlalche.me/e/20/e3q8)\n"
          ]
        }
      ]
    },
    {
      "cell_type": "code",
      "source": [
        "%%sql\n",
        "CREATE TABLE Sales (\n",
        "    SaleID INT PRIMARY KEY,\n",
        "    EmployeeID INT,\n",
        "    SaleAmount DECIMAL(10, 2),\n",
        "    SaleDate DATE,\n",
        "    FOREIGN KEY (EmployeeID) REFERENCES Employees(EmployeeID)\n",
        ");\n",
        "\n",
        "INSERT INTO Sales (SaleID, EmployeeID, SaleAmount, SaleDate) VALUES\n",
        "(1, 1, 5000, '2023-09-12'),\n",
        "(2, 2, 12000, '2023-09-15'),\n",
        "(3, 3, 7000, '2023-09-20'),\n",
        "(4, 5, 9500, '2023-09-22'),\n",
        "(5, 4, 3500, '2023-10-01'),\n",
        "(6, 6, 8000, '2023-10-05');"
      ],
      "metadata": {
        "colab": {
          "base_uri": "https://localhost:8080/"
        },
        "id": "RAO85uFCqzp3",
        "outputId": "308003e4-d94b-4b7f-ebdb-673eb385dee2"
      },
      "execution_count": 75,
      "outputs": [
        {
          "output_type": "stream",
          "name": "stdout",
          "text": [
            " * sqlite://\n",
            "Done.\n",
            "6 rows affected.\n"
          ]
        },
        {
          "output_type": "execute_result",
          "data": {
            "text/plain": [
              "[]"
            ]
          },
          "metadata": {},
          "execution_count": 75
        }
      ]
    },
    {
      "cell_type": "code",
      "source": [
        "#Write a query to find all employees who have a higher salary than the average salary of their department.\n",
        "%%sql\n",
        "select Name,Salary\n",
        "from Employees e\n",
        "WHERE Salary> (SELECT AVG(Salary) From Employees WHERE e.Department==Department) ;"
      ],
      "metadata": {
        "colab": {
          "base_uri": "https://localhost:8080/",
          "height": 136
        },
        "id": "kRCa-T2XqzsJ",
        "outputId": "c6da2bf8-5fd5-4f0c-9dcc-50897b871c87"
      },
      "execution_count": 76,
      "outputs": [
        {
          "output_type": "stream",
          "name": "stdout",
          "text": [
            " * sqlite://\n",
            "Done.\n"
          ]
        },
        {
          "output_type": "execute_result",
          "data": {
            "text/plain": [
              "[('Charlie', 65000), ('Eva', 90000), ('Frank', 75000)]"
            ],
            "text/html": [
              "<table>\n",
              "    <thead>\n",
              "        <tr>\n",
              "            <th>Name</th>\n",
              "            <th>Salary</th>\n",
              "        </tr>\n",
              "    </thead>\n",
              "    <tbody>\n",
              "        <tr>\n",
              "            <td>Charlie</td>\n",
              "            <td>65000</td>\n",
              "        </tr>\n",
              "        <tr>\n",
              "            <td>Eva</td>\n",
              "            <td>90000</td>\n",
              "        </tr>\n",
              "        <tr>\n",
              "            <td>Frank</td>\n",
              "            <td>75000</td>\n",
              "        </tr>\n",
              "    </tbody>\n",
              "</table>"
            ]
          },
          "metadata": {},
          "execution_count": 76
        }
      ]
    },
    {
      "cell_type": "code",
      "source": [
        "#Window Function (RANK):\n",
        "#Write a query to rank employees by their salary within their department, with the highest salary getting rank 1\n",
        "%%sql\n",
        "select name,Salary,\n",
        "      RANK() OVER(PARTITION BY Department ORDER BY Salary DESC)\n",
        "from Employees\n"
      ],
      "metadata": {
        "colab": {
          "base_uri": "https://localhost:8080/",
          "height": 198
        },
        "id": "sN4gIcCcqzvd",
        "outputId": "1b857a08-0ca4-4ce6-845a-72adda595e5c"
      },
      "execution_count": 77,
      "outputs": [
        {
          "output_type": "stream",
          "name": "stdout",
          "text": [
            " * sqlite://\n",
            "Done.\n"
          ]
        },
        {
          "output_type": "execute_result",
          "data": {
            "text/plain": [
              "[('Eva', 90000, 1),\n",
              " ('Bob', 80000, 2),\n",
              " ('Charlie', 65000, 1),\n",
              " ('Alice', 60000, 2),\n",
              " ('Frank', 75000, 1),\n",
              " ('David', 55000, 2)]"
            ],
            "text/html": [
              "<table>\n",
              "    <thead>\n",
              "        <tr>\n",
              "            <th>Name</th>\n",
              "            <th>Salary</th>\n",
              "            <th>RANK() OVER(PARTITION BY Department ORDER BY Salary DESC)</th>\n",
              "        </tr>\n",
              "    </thead>\n",
              "    <tbody>\n",
              "        <tr>\n",
              "            <td>Eva</td>\n",
              "            <td>90000</td>\n",
              "            <td>1</td>\n",
              "        </tr>\n",
              "        <tr>\n",
              "            <td>Bob</td>\n",
              "            <td>80000</td>\n",
              "            <td>2</td>\n",
              "        </tr>\n",
              "        <tr>\n",
              "            <td>Charlie</td>\n",
              "            <td>65000</td>\n",
              "            <td>1</td>\n",
              "        </tr>\n",
              "        <tr>\n",
              "            <td>Alice</td>\n",
              "            <td>60000</td>\n",
              "            <td>2</td>\n",
              "        </tr>\n",
              "        <tr>\n",
              "            <td>Frank</td>\n",
              "            <td>75000</td>\n",
              "            <td>1</td>\n",
              "        </tr>\n",
              "        <tr>\n",
              "            <td>David</td>\n",
              "            <td>55000</td>\n",
              "            <td>2</td>\n",
              "        </tr>\n",
              "    </tbody>\n",
              "</table>"
            ]
          },
          "metadata": {},
          "execution_count": 77
        }
      ]
    },
    {
      "cell_type": "code",
      "source": [
        "#CTE (Common Table Expression):\n",
        "#Write a CTE to calculate the total sales made by each employee, and then filter only those employees whose total sales exceed $10,000.\n",
        "%%sql\n",
        "\n",
        "with totalsales as(\n",
        "  Select Employees.name,Employees.EmployeeID,sum(Sales.SaleAmount) as totalsalesamount\n",
        "  from Employees\n",
        "  join Sales on Employees.EmployeeID==Sales.EmployeeID\n",
        "  group by Employees.name,Employees.EmployeeID)\n",
        "select name,EmployeeID,totalsalesamount\n",
        "from totalsales\n",
        "where totalsalesamount>10000"
      ],
      "metadata": {
        "colab": {
          "base_uri": "https://localhost:8080/",
          "height": 94
        },
        "id": "rmKJxUmPqzyV",
        "outputId": "e2c21088-571f-4e75-b2f9-bce7bf96b4a0"
      },
      "execution_count": 78,
      "outputs": [
        {
          "output_type": "stream",
          "name": "stdout",
          "text": [
            " * sqlite://\n",
            "Done.\n"
          ]
        },
        {
          "output_type": "execute_result",
          "data": {
            "text/plain": [
              "[('Bob', 2, 12000)]"
            ],
            "text/html": [
              "<table>\n",
              "    <thead>\n",
              "        <tr>\n",
              "            <th>name</th>\n",
              "            <th>EmployeeID</th>\n",
              "            <th>totalsalesamount</th>\n",
              "        </tr>\n",
              "    </thead>\n",
              "    <tbody>\n",
              "        <tr>\n",
              "            <td>Bob</td>\n",
              "            <td>2</td>\n",
              "            <td>12000</td>\n",
              "        </tr>\n",
              "    </tbody>\n",
              "</table>"
            ]
          },
          "metadata": {},
          "execution_count": 78
        }
      ]
    },
    {
      "cell_type": "code",
      "source": [
        "#LEAD/LAG Function:\n",
        "#Write a query using the LAG function to show each employee's salary and the difference between their salary and the previous employee’s salary (in descending order of salary).\n",
        "\n",
        "%%sql\n",
        "with salarytable as(\n",
        "select Salary,name,LAG(Salary,1,0) OVER (ORDER BY Salary DESC) AS prev_sal\n",
        "from Employees)\n",
        "select name, Salary, prev_sal, Salary-prev_sal AS differenceinsal\n",
        "from salarytable;\n"
      ],
      "metadata": {
        "colab": {
          "base_uri": "https://localhost:8080/",
          "height": 198
        },
        "id": "2R7x-ZOrqz06",
        "outputId": "d576f622-394d-4349-b23c-bb19bddd5850"
      },
      "execution_count": 88,
      "outputs": [
        {
          "output_type": "stream",
          "name": "stdout",
          "text": [
            " * sqlite://\n",
            "Done.\n"
          ]
        },
        {
          "output_type": "execute_result",
          "data": {
            "text/plain": [
              "[('Eva', 90000, 0, 90000),\n",
              " ('Bob', 80000, 90000, -10000),\n",
              " ('Frank', 75000, 80000, -5000),\n",
              " ('Charlie', 65000, 75000, -10000),\n",
              " ('Alice', 60000, 65000, -5000),\n",
              " ('David', 55000, 60000, -5000)]"
            ],
            "text/html": [
              "<table>\n",
              "    <thead>\n",
              "        <tr>\n",
              "            <th>name</th>\n",
              "            <th>Salary</th>\n",
              "            <th>prev_sal</th>\n",
              "            <th>differenceinsal</th>\n",
              "        </tr>\n",
              "    </thead>\n",
              "    <tbody>\n",
              "        <tr>\n",
              "            <td>Eva</td>\n",
              "            <td>90000</td>\n",
              "            <td>0</td>\n",
              "            <td>90000</td>\n",
              "        </tr>\n",
              "        <tr>\n",
              "            <td>Bob</td>\n",
              "            <td>80000</td>\n",
              "            <td>90000</td>\n",
              "            <td>-10000</td>\n",
              "        </tr>\n",
              "        <tr>\n",
              "            <td>Frank</td>\n",
              "            <td>75000</td>\n",
              "            <td>80000</td>\n",
              "            <td>-5000</td>\n",
              "        </tr>\n",
              "        <tr>\n",
              "            <td>Charlie</td>\n",
              "            <td>65000</td>\n",
              "            <td>75000</td>\n",
              "            <td>-10000</td>\n",
              "        </tr>\n",
              "        <tr>\n",
              "            <td>Alice</td>\n",
              "            <td>60000</td>\n",
              "            <td>65000</td>\n",
              "            <td>-5000</td>\n",
              "        </tr>\n",
              "        <tr>\n",
              "            <td>David</td>\n",
              "            <td>55000</td>\n",
              "            <td>60000</td>\n",
              "            <td>-5000</td>\n",
              "        </tr>\n",
              "    </tbody>\n",
              "</table>"
            ]
          },
          "metadata": {},
          "execution_count": 88
        }
      ]
    },
    {
      "cell_type": "code",
      "source": [
        "#Subquery with JOIN:\n",
        "#Write a query to find the employee(s) who made the highest sale in the Sales table. Use a subquery to identify the highest sale amount and join it with the employees.\n",
        "%%sql\n",
        "select Employees.EmployeeID,Employees.name,Sales.SaleAmount\n",
        "from Employees\n",
        "Join Sales on Sales.EmployeeID==Employees.EmployeeID\n",
        "WHERE Sales.SaleAmount==(SELECT max(Sales.SaleAmount) from Sales);"
      ],
      "metadata": {
        "colab": {
          "base_uri": "https://localhost:8080/",
          "height": 94
        },
        "id": "V-FoXSbfqz2d",
        "outputId": "9d1e0b3c-ea7d-4277-ba98-1e495e986880"
      },
      "execution_count": 93,
      "outputs": [
        {
          "output_type": "stream",
          "name": "stdout",
          "text": [
            " * sqlite://\n",
            "Done.\n"
          ]
        },
        {
          "output_type": "execute_result",
          "data": {
            "text/plain": [
              "[(2, 'Bob', 12000)]"
            ],
            "text/html": [
              "<table>\n",
              "    <thead>\n",
              "        <tr>\n",
              "            <th>EmployeeID</th>\n",
              "            <th>Name</th>\n",
              "            <th>SaleAmount</th>\n",
              "        </tr>\n",
              "    </thead>\n",
              "    <tbody>\n",
              "        <tr>\n",
              "            <td>2</td>\n",
              "            <td>Bob</td>\n",
              "            <td>12000</td>\n",
              "        </tr>\n",
              "    </tbody>\n",
              "</table>"
            ]
          },
          "metadata": {},
          "execution_count": 93
        }
      ]
    },
    {
      "cell_type": "code",
      "source": [
        "#Aggregate with HAVING:\n",
        "#Write a query to display the departments where the average salary of employees is greater than $70,000.\n",
        "%%sql\n",
        "select Department,Salary,avg(Salary) as avg_sal\n",
        "from Employees\n",
        "group by Department\n",
        "having avg_sal>70000;\n"
      ],
      "metadata": {
        "colab": {
          "base_uri": "https://localhost:8080/",
          "height": 94
        },
        "id": "37SfuIWkqz5H",
        "outputId": "cac57347-a2f1-4ef3-a7ed-f181fa1a1b55"
      },
      "execution_count": 96,
      "outputs": [
        {
          "output_type": "stream",
          "name": "stdout",
          "text": [
            " * sqlite://\n",
            "Done.\n"
          ]
        },
        {
          "output_type": "execute_result",
          "data": {
            "text/plain": [
              "[('Engineering', 80000, 85000.0)]"
            ],
            "text/html": [
              "<table>\n",
              "    <thead>\n",
              "        <tr>\n",
              "            <th>Department</th>\n",
              "            <th>Salary</th>\n",
              "            <th>avg_sal</th>\n",
              "        </tr>\n",
              "    </thead>\n",
              "    <tbody>\n",
              "        <tr>\n",
              "            <td>Engineering</td>\n",
              "            <td>80000</td>\n",
              "            <td>85000.0</td>\n",
              "        </tr>\n",
              "    </tbody>\n",
              "</table>"
            ]
          },
          "metadata": {},
          "execution_count": 96
        }
      ]
    },
    {
      "cell_type": "code",
      "source": [
        "#Window Function (ROW_NUMBER):\n",
        "#Write a query using ROW_NUMBER() to list employees and their salaries, with a unique rank assigned to each employee. Reset the rank for each department and order by salary within each department.\n",
        "%%sql\n",
        "select name,\n",
        "        Salary,\n",
        "        ROW_NUMBER() OVER(PARTITION BY Department ORDER BY Salary) as row_number\n",
        "from Employees"
      ],
      "metadata": {
        "colab": {
          "base_uri": "https://localhost:8080/",
          "height": 198
        },
        "id": "OUXSTLxlqz7i",
        "outputId": "abbfc86a-bb11-4ef8-a6c5-c4fe35111dc6"
      },
      "execution_count": 99,
      "outputs": [
        {
          "output_type": "stream",
          "name": "stdout",
          "text": [
            " * sqlite://\n",
            "Done.\n"
          ]
        },
        {
          "output_type": "execute_result",
          "data": {
            "text/plain": [
              "[('Bob', 80000, 1),\n",
              " ('Eva', 90000, 2),\n",
              " ('Alice', 60000, 1),\n",
              " ('Charlie', 65000, 2),\n",
              " ('David', 55000, 1),\n",
              " ('Frank', 75000, 2)]"
            ],
            "text/html": [
              "<table>\n",
              "    <thead>\n",
              "        <tr>\n",
              "            <th>Name</th>\n",
              "            <th>Salary</th>\n",
              "            <th>row_number</th>\n",
              "        </tr>\n",
              "    </thead>\n",
              "    <tbody>\n",
              "        <tr>\n",
              "            <td>Bob</td>\n",
              "            <td>80000</td>\n",
              "            <td>1</td>\n",
              "        </tr>\n",
              "        <tr>\n",
              "            <td>Eva</td>\n",
              "            <td>90000</td>\n",
              "            <td>2</td>\n",
              "        </tr>\n",
              "        <tr>\n",
              "            <td>Alice</td>\n",
              "            <td>60000</td>\n",
              "            <td>1</td>\n",
              "        </tr>\n",
              "        <tr>\n",
              "            <td>Charlie</td>\n",
              "            <td>65000</td>\n",
              "            <td>2</td>\n",
              "        </tr>\n",
              "        <tr>\n",
              "            <td>David</td>\n",
              "            <td>55000</td>\n",
              "            <td>1</td>\n",
              "        </tr>\n",
              "        <tr>\n",
              "            <td>Frank</td>\n",
              "            <td>75000</td>\n",
              "            <td>2</td>\n",
              "        </tr>\n",
              "    </tbody>\n",
              "</table>"
            ]
          },
          "metadata": {},
          "execution_count": 99
        }
      ]
    },
    {
      "cell_type": "code",
      "source": [
        "%%sql\n",
        "select name,\n",
        "        Salary,\n",
        "        RANK() OVER( ORDER BY Salary) as row_number\n",
        "from Employees"
      ],
      "metadata": {
        "colab": {
          "base_uri": "https://localhost:8080/",
          "height": 198
        },
        "id": "GbIkiZXvqz_H",
        "outputId": "02a5a6e9-f3e4-4506-9d6a-6619d1726b9b"
      },
      "execution_count": 102,
      "outputs": [
        {
          "output_type": "stream",
          "name": "stdout",
          "text": [
            " * sqlite://\n",
            "Done.\n"
          ]
        },
        {
          "output_type": "execute_result",
          "data": {
            "text/plain": [
              "[('David', 55000, 1),\n",
              " ('Alice', 60000, 2),\n",
              " ('Charlie', 65000, 3),\n",
              " ('Frank', 75000, 4),\n",
              " ('Bob', 80000, 5),\n",
              " ('Eva', 90000, 6)]"
            ],
            "text/html": [
              "<table>\n",
              "    <thead>\n",
              "        <tr>\n",
              "            <th>Name</th>\n",
              "            <th>Salary</th>\n",
              "            <th>row_number</th>\n",
              "        </tr>\n",
              "    </thead>\n",
              "    <tbody>\n",
              "        <tr>\n",
              "            <td>David</td>\n",
              "            <td>55000</td>\n",
              "            <td>1</td>\n",
              "        </tr>\n",
              "        <tr>\n",
              "            <td>Alice</td>\n",
              "            <td>60000</td>\n",
              "            <td>2</td>\n",
              "        </tr>\n",
              "        <tr>\n",
              "            <td>Charlie</td>\n",
              "            <td>65000</td>\n",
              "            <td>3</td>\n",
              "        </tr>\n",
              "        <tr>\n",
              "            <td>Frank</td>\n",
              "            <td>75000</td>\n",
              "            <td>4</td>\n",
              "        </tr>\n",
              "        <tr>\n",
              "            <td>Bob</td>\n",
              "            <td>80000</td>\n",
              "            <td>5</td>\n",
              "        </tr>\n",
              "        <tr>\n",
              "            <td>Eva</td>\n",
              "            <td>90000</td>\n",
              "            <td>6</td>\n",
              "        </tr>\n",
              "    </tbody>\n",
              "</table>"
            ]
          },
          "metadata": {},
          "execution_count": 102
        }
      ]
    },
    {
      "cell_type": "code",
      "source": [
        "%%sql\n",
        "select name,\n",
        "        Salary,\n",
        "        DENSE_RANK() OVER(ORDER BY Salary) as row_number\n",
        "from Employees"
      ],
      "metadata": {
        "colab": {
          "base_uri": "https://localhost:8080/",
          "height": 198
        },
        "id": "0cV9TPcA2tbA",
        "outputId": "a7072545-dd9b-4e1f-8fa3-9adf7724eb13"
      },
      "execution_count": 104,
      "outputs": [
        {
          "output_type": "stream",
          "name": "stdout",
          "text": [
            " * sqlite://\n",
            "Done.\n"
          ]
        },
        {
          "output_type": "execute_result",
          "data": {
            "text/plain": [
              "[('David', 55000, 1),\n",
              " ('Alice', 60000, 2),\n",
              " ('Charlie', 65000, 3),\n",
              " ('Frank', 75000, 4),\n",
              " ('Bob', 80000, 5),\n",
              " ('Eva', 90000, 6)]"
            ],
            "text/html": [
              "<table>\n",
              "    <thead>\n",
              "        <tr>\n",
              "            <th>Name</th>\n",
              "            <th>Salary</th>\n",
              "            <th>row_number</th>\n",
              "        </tr>\n",
              "    </thead>\n",
              "    <tbody>\n",
              "        <tr>\n",
              "            <td>David</td>\n",
              "            <td>55000</td>\n",
              "            <td>1</td>\n",
              "        </tr>\n",
              "        <tr>\n",
              "            <td>Alice</td>\n",
              "            <td>60000</td>\n",
              "            <td>2</td>\n",
              "        </tr>\n",
              "        <tr>\n",
              "            <td>Charlie</td>\n",
              "            <td>65000</td>\n",
              "            <td>3</td>\n",
              "        </tr>\n",
              "        <tr>\n",
              "            <td>Frank</td>\n",
              "            <td>75000</td>\n",
              "            <td>4</td>\n",
              "        </tr>\n",
              "        <tr>\n",
              "            <td>Bob</td>\n",
              "            <td>80000</td>\n",
              "            <td>5</td>\n",
              "        </tr>\n",
              "        <tr>\n",
              "            <td>Eva</td>\n",
              "            <td>90000</td>\n",
              "            <td>6</td>\n",
              "        </tr>\n",
              "    </tbody>\n",
              "</table>"
            ]
          },
          "metadata": {},
          "execution_count": 104
        }
      ]
    },
    {
      "cell_type": "code",
      "source": [
        "#DATAMANIPULATION\n",
        "#INSERT Statement:\n",
        "#Write a query to insert a new employee record into the Employees table with the following details: EmployeeID = 8, Name = 'Henry', Department = 'IT', Salary = 75000, HireDate = '2023-08-01'.\n",
        "%%sql\n",
        "INSERT INTO Employees(EmployeeID,Name,Department,Salary,HireDate)\n",
        "VALUES(8,'Henry','IT',75000,'2023-08-01')\n"
      ],
      "metadata": {
        "colab": {
          "base_uri": "https://localhost:8080/"
        },
        "id": "bax7ZboO2tdk",
        "outputId": "ad134deb-b729-4d1e-fe7e-3b2db00562d2"
      },
      "execution_count": 108,
      "outputs": [
        {
          "output_type": "stream",
          "name": "stdout",
          "text": [
            " * sqlite://\n",
            "1 rows affected.\n"
          ]
        },
        {
          "output_type": "execute_result",
          "data": {
            "text/plain": [
              "[]"
            ]
          },
          "metadata": {},
          "execution_count": 108
        }
      ]
    },
    {
      "cell_type": "code",
      "source": [
        "#UPDATE Statement:\n",
        "#Write a query to increase the salary of all employees in the Marketing department by 15%.\n",
        "%%sql\n",
        "UPDATE Employees\n",
        "SET Salary=Salary*0.15\n",
        "WHERE Department='Marketing'\n"
      ],
      "metadata": {
        "colab": {
          "base_uri": "https://localhost:8080/"
        },
        "id": "zxpi4vgs2tgA",
        "outputId": "32ea0937-db0f-4eb8-804b-77f8ba5905e1"
      },
      "execution_count": 111,
      "outputs": [
        {
          "output_type": "stream",
          "name": "stdout",
          "text": [
            " * sqlite://\n",
            "2 rows affected.\n"
          ]
        },
        {
          "output_type": "execute_result",
          "data": {
            "text/plain": [
              "[]"
            ]
          },
          "metadata": {},
          "execution_count": 111
        }
      ]
    },
    {
      "cell_type": "code",
      "source": [
        "#DELETE Statement:\n",
        "#Write a query to delete all records from the Sales table where the SaleAmount is less than $5,000.\n",
        "%%sql\n",
        "DELETE FROM Sales\n",
        "where SaleAmount<5000;"
      ],
      "metadata": {
        "colab": {
          "base_uri": "https://localhost:8080/"
        },
        "id": "517wT1vm2tib",
        "outputId": "18367d88-f329-4ce7-d044-b6c0e4592759"
      },
      "execution_count": 113,
      "outputs": [
        {
          "output_type": "stream",
          "name": "stdout",
          "text": [
            " * sqlite://\n",
            "1 rows affected.\n"
          ]
        },
        {
          "output_type": "execute_result",
          "data": {
            "text/plain": [
              "[]"
            ]
          },
          "metadata": {},
          "execution_count": 113
        }
      ]
    },
    {
      "cell_type": "code",
      "source": [
        "#Transaction Control:\n",
        "#Write a series of SQL commands to begin a transaction that updates the salary of all employees in the Finance department by 20% and then deletes all employees hired before January 1, 2019. Ensure that the transaction is committed only if both operations are successful.\n",
        "#sqlite can't do transaction code is correct\n",
        "\n",
        "%%sql\n",
        "BEGIN TRANSACTION\n",
        "\n",
        "UPDATE Employees\n",
        "SET Salary=Salary*0.20\n",
        "WHERE Department='Finance';\n",
        "\n",
        "DELETE FROM Employees\n",
        "WHERE HireDate<'2019-01-01';\n",
        "\n",
        "commit;"
      ],
      "metadata": {
        "id": "TLzeA_4M2tlZ"
      },
      "execution_count": 117,
      "outputs": []
    },
    {
      "cell_type": "code",
      "source": [
        "\n",
        "\n"
      ],
      "metadata": {
        "id": "7SoJU85z2tnl"
      },
      "execution_count": 117,
      "outputs": []
    },
    {
      "cell_type": "code",
      "source": [],
      "metadata": {
        "id": "15MZU0dc2tp_"
      },
      "execution_count": null,
      "outputs": []
    },
    {
      "cell_type": "code",
      "source": [],
      "metadata": {
        "id": "bJ7ZMccx2tsv"
      },
      "execution_count": null,
      "outputs": []
    },
    {
      "cell_type": "code",
      "source": [],
      "metadata": {
        "id": "f2_z_Iqz2tvE"
      },
      "execution_count": null,
      "outputs": []
    },
    {
      "cell_type": "code",
      "source": [],
      "metadata": {
        "id": "8dVh9se52tyM"
      },
      "execution_count": null,
      "outputs": []
    },
    {
      "cell_type": "code",
      "source": [],
      "metadata": {
        "id": "b8iyd2n42t1m"
      },
      "execution_count": null,
      "outputs": []
    }
  ]
}